{
 "cells": [
  {
   "cell_type": "markdown",
   "metadata": {
    "id": "ueWmxIyWU8fG"
   },
   "source": [
    "# Homework 3\n",
    "\n",
    "\n",
    "In this homework, we will implement a logistic regression from scratch. Your jobs\n",
    "\n",
    "1. Implement the objective function and prediction function.\n",
    "2. Implement the stochastic gradient descent algorithm to train the logistic regression.\n",
    "3. Implement the stochastic gradient descent algorithm to train the logistic regression.\n",
    "4. Submit the .IPYNB file to Canvas.\n",
    "    - Missing the execution output after each cell may hurt your grade.\n",
    "\n",
    "\n",
    "**In this homework, you are not allowed to import extra packages except those have been imported.\n",
    "You need to write the plain Numpy code to implement the algorithms and cannot use scikit learn in your implementation.**\n",
    "\n",
    "# Part 0: Data processing\n",
    "\n",
    "- Load the data using sklearn.\n",
    "- Preprocess the data.\n",
    "\n",
    "## Load the data"
   ]
  },
  {
   "cell_type": "code",
   "execution_count": 4,
   "metadata": {
    "colab": {
     "base_uri": "https://localhost:8080/",
     "height": 51
    },
    "id": "FHa_HxmOU8fJ",
    "outputId": "08e84d4e-0c3a-49ca-d839-4f37b126c53d"
   },
   "outputs": [
    {
     "name": "stdout",
     "output_type": "stream",
     "text": [
      "(20744, 24)\n",
      "(13548, 24)\n",
      "Shape of x: (13548, 24)\n",
      "Shape of y: (13548,)\n"
     ]
    }
   ],
   "source": [
    "from sklearn import datasets\n",
    "from sklearn import preprocessing\n",
    "import numpy as np\n",
    "import pandas as pd\n",
    "import math\n",
    "\n",
    "data = pd.read_csv('FinalData_num.csv')\n",
    "print(data.shape)\n",
    "data = data.dropna(axis=0, how='any', thresh=None, subset=None, inplace=False)\n",
    "print(data.shape)\n",
    "\n",
    "        \n",
    "\n",
    "test_data = data.loc[data['year'] == 2021]\n",
    "train_data = data.loc[data['year']!= 2021]\n",
    "x_test = test_data.drop(['Expected', 'team', 'opponent','year','month','day','Date'], axis=1)\n",
    "x_train = train_data.drop(['Expected', 'team', 'opponent','year','month','day','Date'], axis=1)\n",
    "y_test = test_data['Expected']\n",
    "y_train = train_data['Expected']\n",
    "\n",
    "\n",
    "\n",
    "MAX_EPOCH = 2000\n",
    "np.random.seed(1)\n",
    "alpha = 0.01\n",
    "\n",
    "##x_sparse, y = datasets.load_svmlight_file('diabetes')\n",
    "##x = x_sparse.todense()\n",
    "\n",
    "x = data.to_numpy()\n",
    "\n",
    "##print(x)\n",
    "\n",
    "x = np.concatenate([x, np.ones((x.shape[0], 1))], axis=1)\n",
    "\n",
    "print('Shape of x: ' + str(data.shape))\n",
    "print('Shape of y: ' + str(data['Expected'].shape))"
   ]
  },
  {
   "cell_type": "markdown",
   "metadata": {
    "id": "1_6NI-WOU8fP"
   },
   "source": [
    "## Partition to training and test sets"
   ]
  },
  {
   "cell_type": "code",
   "execution_count": 5,
   "metadata": {
    "colab": {
     "base_uri": "https://localhost:8080/",
     "height": 86
    },
    "id": "wY8k5eLOU8fP",
    "outputId": "7cb61a21-ea4e-4ed3-b218-37c8745f84da"
   },
   "outputs": [
    {
     "name": "stdout",
     "output_type": "stream",
     "text": [
      "Shape of x_train: (11044, 17)\n",
      "Shape of x_test: (2504, 17)\n",
      "Shape of y_train: (11044,)\n",
      "Shape of y_test: (2504,)\n"
     ]
    }
   ],
   "source": [
    "# partition the data to training and test sets\n",
    "##from sklearn.model_selection import train_test_split\n",
    "##x_train, x_test, y_train, y_test = train_test_split(x, y)\n",
    "\n",
    "## Min max standardization as Pd dataframe\n",
    "\n",
    "\n",
    "## Convert to numpy\n",
    "x_train = x_train.to_numpy()\n",
    "x_test = x_test.to_numpy()\n",
    "y_train = y_train.to_numpy()\n",
    "y_test = y_test.to_numpy()\n",
    "\n",
    "print('Shape of x_train: ' + str(x_train.shape))\n",
    "print('Shape of x_test: ' + str(x_test.shape))\n",
    "print('Shape of y_train: ' + str(y_train.shape))\n",
    "print('Shape of y_test: ' + str(y_test.shape))"
   ]
  },
  {
   "cell_type": "markdown",
   "metadata": {
    "id": "GHbhxbJFU8fT"
   },
   "source": [
    "## Feature Standardization"
   ]
  },
  {
   "cell_type": "markdown",
   "metadata": {
    "id": "4T1oT_D-U8fU"
   },
   "source": [
    "Min-max normalization and standardization are two popular feature scaling methods.\n",
    "\n",
    "- Min-max normalization scales the features to the interval $[0, 1]$.\n",
    "- Standardization makes the features have zero mean and unit variance."
   ]
  },
  {
   "cell_type": "code",
   "execution_count": 6,
   "metadata": {
    "id": "pLkMWyCOU8fZ"
   },
   "outputs": [],
   "source": [
    "# Standardization\n",
    "##from sklearn import preprocessing\n",
    "##scaler = preprocessing.StandardScaler().fit(x_train)\n",
    "##x_train = scaler.transform(x_train)\n",
    "##x_test = scaler.transform(x_test)"
   ]
  },
  {
   "cell_type": "code",
   "execution_count": 7,
   "metadata": {},
   "outputs": [
    {
     "name": "stdout",
     "output_type": "stream",
     "text": [
      "Accuracy for training data 0.1704092720028975\n",
      "Accuracy for testing data 0.11501597444089456\n"
     ]
    },
    {
     "name": "stderr",
     "output_type": "stream",
     "text": [
      "C:\\Users\\Piel\\anaconda3\\lib\\site-packages\\sklearn\\linear_model\\_logistic.py:763: ConvergenceWarning: lbfgs failed to converge (status=1):\n",
      "STOP: TOTAL NO. of ITERATIONS REACHED LIMIT.\n",
      "\n",
      "Increase the number of iterations (max_iter) or scale the data as shown in:\n",
      "    https://scikit-learn.org/stable/modules/preprocessing.html\n",
      "Please also refer to the documentation for alternative solver options:\n",
      "    https://scikit-learn.org/stable/modules/linear_model.html#logistic-regression\n",
      "  n_iter_i = _check_optimize_result(\n"
     ]
    }
   ],
   "source": [
    "from sklearn.linear_model import LogisticRegression\n",
    "from sklearn.metrics import accuracy_score\n",
    "lg = LogisticRegression()\n",
    "lg.fit(x_train, y_train)\n",
    "print('Accuracy for training data', accuracy_score(lg.predict(x_train), y_train))\n",
    "print('Accuracy for testing data', accuracy_score(lg.predict(x_test), y_test))"
   ]
  },
  {
   "cell_type": "markdown",
   "metadata": {
    "id": "TBn7Lj6AU8fp"
   },
   "source": [
    "# Part 1. Functions"
   ]
  },
  {
   "cell_type": "markdown",
   "metadata": {
    "id": "xpld_Qg-RB1a"
   },
   "source": [
    "The objective function is $L(\\mathbf{w}; \\mathbf{X}, \\mathbf{y})=\\frac{1}{n} \\sum_{i=1}^n l (y_j w^T x_j)$, where $l(z) = log(1+e^{-z})$.\n",
    "Given an instance of w, you can always calculate the objective value for this dataset.\n",
    "This value is considered as a mediate metric for the gradient descent or stochastic gradient descent."
   ]
  },
  {
   "cell_type": "code",
   "execution_count": 8,
   "metadata": {
    "id": "aK2j8pVKQ8OT"
   },
   "outputs": [],
   "source": [
    "# (10 pts)\n",
    "\n",
    "def calc_obj_val(x, y, w):\n",
    "    '''\n",
    "    Input: \n",
    "        x: a (n,d) ndarray\n",
    "        y: a (n,) ndarray\n",
    "        w: a (d,) ndarray\n",
    "    Output:\n",
    "        obj_val: float, the value of the objective function given an instance of w.\n",
    "    '''\n",
    "    ###### Add your code here\n",
    "    n = len(x)\n",
    "    l = lambda z : np.log(1+np.exp(-z))\n",
    "    obj_vals = []\n",
    "    for i in range(n):\n",
    "        obj_vals.append(l(y[i]*(np.dot(w.T,x[i]))))\n",
    "    \n",
    "    obj_val = 1/n * sum(obj_vals)\n",
    "    ######\n",
    "    \n",
    "    return obj_val\n"
   ]
  },
  {
   "cell_type": "markdown",
   "metadata": {},
   "source": [
    "Given any instance of w, you can always make predictions by y_pred = f(x)=sign(wx)."
   ]
  },
  {
   "cell_type": "code",
   "execution_count": 9,
   "metadata": {},
   "outputs": [],
   "source": [
    "# 10 pts\n",
    "\n",
    "def predict(x, w):\n",
    "    '''\n",
    "    Inputs:\n",
    "        x: a (n,d) ndarray\n",
    "        w: a (d,) ndarray\n",
    "    Return:\n",
    "        y_pred: a (n,) ndarray, the predictions\n",
    "    '''\n",
    "    \n",
    "    ###### Add your code here\n",
    "    sign = lambda val : 1.0 if val >= 0 else -1.0\n",
    "    y_pred = []\n",
    "    for x_i in x:\n",
    "        y_pred.append(sign(np.dot(x_i, w)))\n",
    "    \n",
    "    y_pred = np.array(y_pred)\n",
    "    ######\n",
    "    \n",
    "    return y_pred"
   ]
  },
  {
   "cell_type": "markdown",
   "metadata": {
    "id": "mKtSRP2lU8fx"
   },
   "source": [
    "# Part 2: Gradient Descent Implementation"
   ]
  },
  {
   "cell_type": "markdown",
   "metadata": {
    "id": "UH9nycupU8fx"
   },
   "source": [
    "## Calculate the full gradient\n",
    "\n",
    "The gradient at Step $t$ is\n",
    "$$g_t =  \\frac{1}{n} \\sum_{i=1}^n  \\frac{-y_j x_j}{1 + exp(y_j w_t^T x_j)} $$"
   ]
  },
  {
   "cell_type": "code",
   "execution_count": 10,
   "metadata": {
    "id": "kWp8JOYBOFZX"
   },
   "outputs": [],
   "source": [
    "# 20 pts\n",
    "\n",
    "def calc_full_gradient(x, y, w):\n",
    "    '''\n",
    "     This function computes the gradient.\n",
    "     Inputs:\n",
    "         x: a (n,d) ndarray\n",
    "         y: a (n,) ndarray\n",
    "         w: a (d,) ndarray\n",
    "     Return:\n",
    "         w_grad: a (d,) ndarray, full gradient\n",
    "    '''\n",
    "\n",
    "    \n",
    "    ###### Add your code here\n",
    "    n = len(x)\n",
    "    grad = lambda x_i, y_i : (-y_i*x_i) / (1 + np.exp(y_i*np.dot(w.T, x_i)))\n",
    "    w_grads = []\n",
    "    for i in range(n):\n",
    "        w_grads.append(grad(x[i], y[i]))\n",
    "    \n",
    "    w_grad = 1/n * sum(w_grads)\n",
    "    ######\n",
    "    return w_grad"
   ]
  },
  {
   "cell_type": "markdown",
   "metadata": {
    "id": "A2zIXNwnU8f2"
   },
   "source": [
    "## Update the weights using gradient descent\n",
    "\n",
    "Then, the weights w is updated iteratively using the decent.\n",
    "The pseudo-code is given below:\n",
    "\n",
    "for each iteration $t$ untill max_epoch:  \n",
    " &nbsp; &nbsp; w_gd = calc_full_gradient()  \n",
    " &nbsp; &nbsp; update w by $w_t$ = $w_{t-1}$ - alpha * w_gd  \n",
    " &nbsp; &nbsp; obj_val = calc_obj_val()  \n",
    " &nbsp; &nbsp; append the current objective value to `objvals`.  "
   ]
  },
  {
   "cell_type": "code",
   "execution_count": 11,
   "metadata": {
    "id": "1RBVx_34U8f2"
   },
   "outputs": [],
   "source": [
    "# 20 pts\n",
    "\n",
    "def logistic_regression_gd(x, y, w, alpha, max_epoch=MAX_EPOCH):\n",
    "    '''\n",
    "    Gradient descent for solving logistic regression\n",
    "    Inputs:\n",
    "        x: a (n,d) ndarray\n",
    "        y: a (n,) ndarray\n",
    "        alpha: a scalar\n",
    "        max_epoch: an integer, the maximal epochs\n",
    "    Return:\n",
    "        w: a (d,) ndarray\n",
    "        objvals: a list of objective values for all epochs\n",
    "    '''\n",
    "\n",
    "    objvals = [] # store the objective values\n",
    "    \n",
    "    ###### Add your code here\n",
    "    for t in range(1, max_epoch):\n",
    "        w_gd = calc_full_gradient(x, y, w)\n",
    "        w = w - alpha * w_gd\n",
    "        obj_val = calc_obj_val(x, y, w)\n",
    "        objvals.append(obj_val)\n",
    "    \n",
    "    ######\n",
    "    \n",
    "    return w, objvals"
   ]
  },
  {
   "cell_type": "markdown",
   "metadata": {},
   "source": [
    "## Start to train a logistic regression using full GD"
   ]
  },
  {
   "cell_type": "code",
   "execution_count": null,
   "metadata": {
    "colab": {
     "base_uri": "https://localhost:8080/",
     "height": 886
    },
    "id": "ZNZqy-TbU8f7",
    "outputId": "f86d3b7a-92bd-45eb-8506-9fa030e2f361"
   },
   "outputs": [
    {
     "name": "stderr",
     "output_type": "stream",
     "text": [
      "C:\\Users\\Piel\\AppData\\Local\\Temp/ipykernel_3028/3186532611.py:17: RuntimeWarning: overflow encountered in exp\n",
      "  grad = lambda x_i, y_i : (-y_i*x_i) / (1 + np.exp(y_i*np.dot(w.T, x_i)))\n"
     ]
    }
   ],
   "source": [
    "# Initiate w\n",
    "d = x_train.shape[1]\n",
    "w = np.zeros(d)\n",
    "\n",
    "w_gd, objvals_gd = logistic_regression_gd(x_train, y_train, w, alpha)"
   ]
  },
  {
   "cell_type": "markdown",
   "metadata": {},
   "source": [
    "## Visualize the objective values"
   ]
  },
  {
   "cell_type": "code",
   "execution_count": null,
   "metadata": {},
   "outputs": [],
   "source": [
    "import matplotlib.pyplot as plt\n",
    "plt.plot(objvals_gd)\n",
    "plt.xlabel('Epochs')\n",
    "plt.ylabel('Objective Value')"
   ]
  },
  {
   "cell_type": "markdown",
   "metadata": {},
   "source": [
    "## Test your weights on training and testing data separately"
   ]
  },
  {
   "cell_type": "code",
   "execution_count": null,
   "metadata": {
    "colab": {
     "base_uri": "https://localhost:8080/",
     "height": 34
    },
    "id": "g-RJK4pnU8gQ",
    "outputId": "81ea8905-a6f1-467e-9409-0675568c382a"
   },
   "outputs": [],
   "source": [
    "# evaluate training accuracy\n",
    "y_train_pred = predict(x_train, w_gd)\n",
    "acc_train = np.mean(y_train_pred == y_train)\n",
    "print('Accuracy for training data', acc_train)"
   ]
  },
  {
   "cell_type": "code",
   "execution_count": null,
   "metadata": {
    "colab": {
     "base_uri": "https://localhost:8080/",
     "height": 34
    },
    "id": "paDufW79U8gS",
    "outputId": "39f491f2-09f6-4259-fc7c-965bac1687af"
   },
   "outputs": [],
   "source": [
    "# evaluate test accuracy\n",
    "y_test_pred = predict(x_test, w_gd)\n",
    "diff = np.abs(y_test_pred - y_test) / 2\n",
    "acc_test = np.mean(y_test_pred == y_test)\n",
    "print('Accuracy for training data', acc_test)"
   ]
  },
  {
   "cell_type": "markdown",
   "metadata": {
    "id": "gVrjVsv0U8f-"
   },
   "source": [
    "# Part 3: Stochastic gradient descent (SGD) implementation\n"
   ]
  },
  {
   "cell_type": "markdown",
   "metadata": {},
   "source": [
    "## Calculate a stochastic gradient\n",
    "\n",
    "The stochastic gradient is calculated using a single data point (x_j, y_j) rather than the whole dataset:\n",
    "$$g_t =  \\frac{-y_j x_j}{1 + exp(y_j w_t^T x_j)} $$"
   ]
  },
  {
   "cell_type": "code",
   "execution_count": null,
   "metadata": {
    "id": "RwJeIIOHU8f-"
   },
   "outputs": [],
   "source": [
    "# 20 pts\n",
    "\n",
    "def calc_sgd_gradient(x_j, y_j, w):\n",
    "    '''\n",
    "    Calculate the stochastic gradient at (x_j, y_j)\n",
    "    Inputs:\n",
    "        x_j: a (d,) ndarray\n",
    "        y_j: a scalar\n",
    "        w: a (d,) ndarray\n",
    "    Return:\n",
    "        w_grad: a (d,) vector\n",
    "    '''\n",
    "       \n",
    "    ###### Add your code here\n",
    "    grad = lambda x_i, y_i : (-y_i*x_i) / (1 + np.exp(y_i*np.dot(w.T, x_i)))\n",
    "    w_grad = grad(x_j, y_j)\n",
    "    \n",
    "    ######\n",
    "    return w_grad"
   ]
  },
  {
   "cell_type": "markdown",
   "metadata": {},
   "source": [
    "## Update weights using the stochastic gradient\n",
    "\n",
    "The stochastic gradient fluctuates, but it is acceptable for gradient descent.\n",
    "If a stochastic gradient is adopted, the optimization is known as stochastic gradient descent.\n",
    "Here is the pseudo-code:\n",
    "\n",
    "for each epoch $t$ untill max_epoch:  \n",
    " &nbsp; &nbsp; let n is the rows of the features  \n",
    " &nbsp; &nbsp; generate an index list from 0 to n-1  \n",
    " &nbsp; &nbsp; shuffle the index list  \n",
    " &nbsp; &nbsp; for each index $j$ in this list:  \n",
    " &nbsp; &nbsp;  &nbsp; &nbsp; $w_{t*n+j}$ = calc_sgd_gradient($x_j$, $y_j$, $w_{t*n-1}$)  \n",
    " &nbsp; &nbsp;  &nbsp; &nbsp; update w by $w_{t*n+j}$ = $w_{t*n+j-1}$ - alpha * w_sgd  \n",
    " &nbsp; &nbsp; obj_val = calc_obj_val()  \n",
    " &nbsp; &nbsp; append the current objective value to `objvals`.  "
   ]
  },
  {
   "cell_type": "code",
   "execution_count": 143,
   "metadata": {
    "id": "BTZtZdhbU8gE"
   },
   "outputs": [],
   "source": [
    "# 20 pts\n",
    "\n",
    "def logistic_regression_sgd(x, y, w, alpha, max_epoch=MAX_EPOCH):\n",
    "    '''\n",
    "    Stochastic gradient descent for solving logistic regression\n",
    "    Inputs:\n",
    "        x: a (n,d) ndarray\n",
    "        y: a (n,) ndarray\n",
    "        alpha: a scalar\n",
    "        max_epoch: an integer, the maximal epochs\n",
    "    Return:\n",
    "        w: a (d,) ndarray\n",
    "        objvals: a list of objective values for all epochs\n",
    "    '''\n",
    "    \n",
    "    objvals = [] # store the objective values\n",
    "    \n",
    "    ###### Add your code here\n",
    "    for t in range(max_epoch):\n",
    "        n = len(x)\n",
    "        index_list = np.arange(n)\n",
    "        np.random.shuffle(index_list)\n",
    "        for j in index_list:\n",
    "            w_sgd = calc_sgd_gradient(x[j], y[j], w)\n",
    "            w = w - alpha * w_sgd\n",
    "        \n",
    "        obj_val = calc_obj_val(x, y, w)\n",
    "        objvals.append(obj_val)\n",
    "    ######\n",
    "    #print(f'type w: {type(w)} shape: {w.shape}, type objvals: {type(objvals)}')\n",
    "    return w, objvals"
   ]
  },
  {
   "cell_type": "markdown",
   "metadata": {},
   "source": [
    "## Start to train a logistic regression using SGD"
   ]
  },
  {
   "cell_type": "code",
   "execution_count": 144,
   "metadata": {
    "colab": {
     "base_uri": "https://localhost:8080/",
     "height": 886
    },
    "id": "iWwrX2IUU8gH",
    "outputId": "fc8e9d69-3849-44c8-8ba4-8c7529ba0600"
   },
   "outputs": [],
   "source": [
    "# initiate w\n",
    "d = x_train.shape[1]\n",
    "w = np.zeros(d)\n",
    "\n",
    "w_sgd, objvals_sgd = logistic_regression_sgd(x_train, y_train, w, alpha)"
   ]
  },
  {
   "cell_type": "markdown",
   "metadata": {},
   "source": [
    "## Visualize the objective values"
   ]
  },
  {
   "cell_type": "code",
   "execution_count": 145,
   "metadata": {},
   "outputs": [
    {
     "data": {
      "text/plain": [
       "Text(0, 0.5, 'Objective Value')"
      ]
     },
     "execution_count": 145,
     "metadata": {},
     "output_type": "execute_result"
    },
    {
     "data": {
      "image/png": "[encoded data removed]",
      "text/plain": [
       "<Figure size 432x288 with 1 Axes>"
      ]
     },
     "metadata": {
      "needs_background": "light"
     },
     "output_type": "display_data"
    }
   ],
   "source": [
    "import matplotlib.pyplot as plt\n",
    "plt.plot(objvals_sgd)\n",
    "plt.xlabel('Epochs')\n",
    "plt.ylabel('Objective Value')"
   ]
  },
  {
   "cell_type": "markdown",
   "metadata": {},
   "source": [
    "## Test your weights on training and testing data separately"
   ]
  },
  {
   "cell_type": "code",
   "execution_count": 146,
   "metadata": {
    "colab": {
     "base_uri": "https://localhost:8080/",
     "height": 34
    },
    "id": "g-RJK4pnU8gQ",
    "outputId": "81ea8905-a6f1-467e-9409-0675568c382a"
   },
   "outputs": [
    {
     "name": "stdout",
     "output_type": "stream",
     "text": [
      "Accuracy for training data 0.734375\n"
     ]
    }
   ],
   "source": [
    "# evaluate training accuracy\n",
    "y_train_pred = predict(x_train, w_sgd)\n",
    "acc_train = np.mean(y_train_pred == y_train)\n",
    "print('Accuracy for training data', acc_train)"
   ]
  },
  {
   "cell_type": "code",
   "execution_count": 147,
   "metadata": {
    "colab": {
     "base_uri": "https://localhost:8080/",
     "height": 34
    },
    "id": "paDufW79U8gS",
    "outputId": "39f491f2-09f6-4259-fc7c-965bac1687af"
   },
   "outputs": [
    {
     "name": "stdout",
     "output_type": "stream",
     "text": [
      "Accuracy for training data 0.7708333333333334\n"
     ]
    }
   ],
   "source": [
    "# evaluate test accuracy\n",
    "y_test_pred = predict(x_test, w_sgd)\n",
    "acc_train = np.mean(y_test_pred == y_test)\n",
    "print('Accuracy for training data', acc_test)"
   ]
  },
  {
   "cell_type": "markdown",
   "metadata": {},
   "source": [
    "# Part 4: Compare GD and SGD\n",
    "\n",
    "Now you have implemented gradient descent and stochastic gradient descent.\n",
    "You can compare the optimization procedure and plot the curves of the objective values."
   ]
  },
  {
   "cell_type": "code",
   "execution_count": 148,
   "metadata": {},
   "outputs": [
    {
     "data": {
      "text/plain": [
       "Text(0, 0.5, 'Objective Value')"
      ]
     },
     "execution_count": 148,
     "metadata": {},
     "output_type": "execute_result"
    },
    {
     "data": {
      "image/png": "[encoded data removed]",
      "text/plain": [
       "<Figure size 432x288 with 1 Axes>"
      ]
     },
     "metadata": {
      "needs_background": "light"
     },
     "output_type": "display_data"
    }
   ],
   "source": [
    "import matplotlib.pyplot as plt\n",
    "%matplotlib inline\n",
    "plt.plot(objvals_gd)\n",
    "plt.plot(objvals_sgd)\n",
    "plt.xlabel('Epochs')\n",
    "plt.ylabel('Objective Value')"
   ]
  }
 ],
 "metadata": {
  "colab": {
   "collapsed_sections": [],
   "name": "HW2_logistic_regression_sol.ipynb",
   "provenance": [],
   "toc_visible": true
  },
  "jupytext": {
   "formats": "ipynb,md"
  },
  "kernelspec": {
   "display_name": "Python 3 (ipykernel)",
   "language": "python",
   "name": "python3"
  },
  "language_info": {
   "codemirror_mode": {
    "name": "ipython",
    "version": 3
   },
   "file_extension": ".py",
   "mimetype": "text/x-python",
   "name": "python",
   "nbconvert_exporter": "python",
   "pygments_lexer": "ipython3",
   "version": "3.9.7"
  }
 },
 "nbformat": 4,
 "nbformat_minor": 1
}
